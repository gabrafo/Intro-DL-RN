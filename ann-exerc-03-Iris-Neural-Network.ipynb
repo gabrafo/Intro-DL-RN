{
 "cells": [
  {
   "cell_type": "markdown",
   "id": "b63fd15a",
   "metadata": {
    "papermill": {
     "duration": 0.007795,
     "end_time": "2024-11-02T20:22:44.798942",
     "exception": false,
     "start_time": "2024-11-02T20:22:44.791147",
     "status": "completed"
    },
    "tags": []
   },
   "source": [
    "# Análise do *dataset* Iris\n",
    "\n",
    "Este notebook explora o *dataset* Iris, um conjunto de dados clássico em aprendizado de máquina e estatística. Ele contém 150 amostras de três espécies de flores do gênero *Iris*:\n",
    "- *Iris setosa*\n",
    "- *Iris versicolor*\n",
    "- *Iris virginica*\n",
    "\n",
    "Para cada amostra, foram medidas quatro características:\n",
    "- Comprimento da sépala (*sepal length*) em cm\n",
    "- Largura da sépala (*sepal width*) em cm\n",
    "- Comprimento da pétala (*petal length*) em cm\n",
    "- Largura da pétala (*petal width*) em cm\n",
    "\n",
    "Este *dataset* é amplamente utilizado para tarefas de classificação, onde o objetivo é prever a espécie de uma flor com base em suas características físicas."
   ]
  },
  {
   "cell_type": "markdown",
   "id": "e5169c97",
   "metadata": {
    "id": "RxloBgI6YozY",
    "papermill": {
     "duration": 0.006533,
     "end_time": "2024-11-02T20:22:44.812600",
     "exception": false,
     "start_time": "2024-11-02T20:22:44.806067",
     "status": "completed"
    },
    "tags": []
   },
   "source": [
    "## Importando bibliotecas e dados...\n",
    "\n",
    "Para essa tarefa, usaremos bibliotecas como o pandas, numpy, scikit-learn, etc. Portanto, faremos a importação dessas todas logo de início. Faço isso por preferência pessoal, visto que poderia importá-las conforme necessário nas células a seguir."
   ]
  },
  {
   "cell_type": "code",
   "execution_count": 1,
   "id": "7b8b9dbd",
   "metadata": {
    "_cell_guid": "b1076dfc-b9ad-4769-8c92-a6c4dae69d19",
    "_uuid": "8f2839f25d086af736a60e9eeb907d3b93b6e0e5",
    "execution": {
     "iopub.execute_input": "2024-11-02T20:22:44.828482Z",
     "iopub.status.busy": "2024-11-02T20:22:44.827879Z",
     "iopub.status.idle": "2024-11-02T20:23:02.412524Z",
     "shell.execute_reply": "2024-11-02T20:23:02.411160Z"
    },
    "id": "1ZSz6pa7YozX",
    "outputId": "de071cb9-13b8-4aeb-efab-96d712eff823",
    "papermill": {
     "duration": 17.596055,
     "end_time": "2024-11-02T20:23:02.415397",
     "exception": false,
     "start_time": "2024-11-02T20:22:44.819342",
     "status": "completed"
    },
    "tags": []
   },
   "outputs": [],
   "source": [
    "import numpy as np\n",
    "import pandas as pd\n",
    "import matplotlib.pyplot as plt\n",
    "import sklearn as sk\n",
    "from sklearn.model_selection import train_test_split\n",
    "from sklearn import preprocessing\n",
    "from sklearn.preprocessing import MinMaxScaler\n",
    "import tensorflow as tf\n",
    "from tensorflow import keras\n",
    "from keras import optimizers\n",
    "from keras.optimizers import Adam\n",
    "import os\n",
    "import kagglehub"
   ]
  },
  {
   "cell_type": "code",
   "execution_count": 2,
   "id": "84d7fc3b",
   "metadata": {
    "execution": {
     "iopub.execute_input": "2024-11-02T20:23:02.431448Z",
     "iopub.status.busy": "2024-11-02T20:23:02.430719Z",
     "iopub.status.idle": "2024-11-02T20:23:02.950148Z",
     "shell.execute_reply": "2024-11-02T20:23:02.948749Z"
    },
    "id": "KoWCJLAoYozY",
    "outputId": "ed5af97a-2394-4a5d-d176-3ad49206df37",
    "papermill": {
     "duration": 0.530523,
     "end_time": "2024-11-02T20:23:02.953079",
     "exception": false,
     "start_time": "2024-11-02T20:23:02.422556",
     "status": "completed"
    },
    "tags": []
   },
   "outputs": [
    {
     "data": {
      "text/html": [
       "<div>\n",
       "<style scoped>\n",
       "    .dataframe tbody tr th:only-of-type {\n",
       "        vertical-align: middle;\n",
       "    }\n",
       "\n",
       "    .dataframe tbody tr th {\n",
       "        vertical-align: top;\n",
       "    }\n",
       "\n",
       "    .dataframe thead th {\n",
       "        text-align: right;\n",
       "    }\n",
       "</style>\n",
       "<table border=\"1\" class=\"dataframe\">\n",
       "  <thead>\n",
       "    <tr style=\"text-align: right;\">\n",
       "      <th></th>\n",
       "      <th>sepal_length</th>\n",
       "      <th>sepal_width</th>\n",
       "      <th>petal_length</th>\n",
       "      <th>petal_width</th>\n",
       "      <th>species</th>\n",
       "    </tr>\n",
       "  </thead>\n",
       "  <tbody>\n",
       "    <tr>\n",
       "      <th>0</th>\n",
       "      <td>5.1</td>\n",
       "      <td>3.5</td>\n",
       "      <td>1.4</td>\n",
       "      <td>0.2</td>\n",
       "      <td>Iris-setosa</td>\n",
       "    </tr>\n",
       "    <tr>\n",
       "      <th>1</th>\n",
       "      <td>4.9</td>\n",
       "      <td>3.0</td>\n",
       "      <td>1.4</td>\n",
       "      <td>0.2</td>\n",
       "      <td>Iris-setosa</td>\n",
       "    </tr>\n",
       "    <tr>\n",
       "      <th>2</th>\n",
       "      <td>4.7</td>\n",
       "      <td>3.2</td>\n",
       "      <td>1.3</td>\n",
       "      <td>0.2</td>\n",
       "      <td>Iris-setosa</td>\n",
       "    </tr>\n",
       "    <tr>\n",
       "      <th>3</th>\n",
       "      <td>4.6</td>\n",
       "      <td>3.1</td>\n",
       "      <td>1.5</td>\n",
       "      <td>0.2</td>\n",
       "      <td>Iris-setosa</td>\n",
       "    </tr>\n",
       "    <tr>\n",
       "      <th>4</th>\n",
       "      <td>5.0</td>\n",
       "      <td>3.6</td>\n",
       "      <td>1.4</td>\n",
       "      <td>0.2</td>\n",
       "      <td>Iris-setosa</td>\n",
       "    </tr>\n",
       "  </tbody>\n",
       "</table>\n",
       "</div>"
      ],
      "text/plain": [
       "   sepal_length  sepal_width  petal_length  petal_width      species\n",
       "0           5.1          3.5           1.4          0.2  Iris-setosa\n",
       "1           4.9          3.0           1.4          0.2  Iris-setosa\n",
       "2           4.7          3.2           1.3          0.2  Iris-setosa\n",
       "3           4.6          3.1           1.5          0.2  Iris-setosa\n",
       "4           5.0          3.6           1.4          0.2  Iris-setosa"
      ]
     },
     "execution_count": 2,
     "metadata": {},
     "output_type": "execute_result"
    }
   ],
   "source": [
    "# Importação do dataset usando o KaggleHub.\n",
    "arshid_iris_flower_dataset_path = kagglehub.dataset_download('arshid/iris-flower-dataset')\n",
    "iris_csv_path = os.path.join(arshid_iris_flower_dataset_path, \"IRIS.csv\")\n",
    "\n",
    "# Lendo-o em forma de dataframe\n",
    "df = pd.read_csv(iris_csv_path)\n",
    "\n",
    "df.head() # Primeiras 5 instâncias"
   ]
  },
  {
   "cell_type": "markdown",
   "id": "1668d7e9",
   "metadata": {
    "papermill": {
     "duration": 0.007461,
     "end_time": "2024-11-02T20:23:02.968136",
     "exception": false,
     "start_time": "2024-11-02T20:23:02.960675",
     "status": "completed"
    },
    "tags": []
   },
   "source": [
    "## Visualização dos dados\n",
    "\n",
    "Teremos a exibição, logo abaixo, de informações sobre os dados, tais quais a distribuição dos valores de seus atributos."
   ]
  },
  {
   "cell_type": "code",
   "execution_count": 3,
   "id": "1512e3bb",
   "metadata": {
    "execution": {
     "iopub.execute_input": "2024-11-02T20:23:02.984449Z",
     "iopub.status.busy": "2024-11-02T20:23:02.983986Z",
     "iopub.status.idle": "2024-11-02T20:23:03.013877Z",
     "shell.execute_reply": "2024-11-02T20:23:03.012371Z"
    },
    "id": "EyUlk5yUYozZ",
    "outputId": "9968b7d8-801c-4d26-f053-50a57650a2a4",
    "papermill": {
     "duration": 0.041902,
     "end_time": "2024-11-02T20:23:03.017370",
     "exception": false,
     "start_time": "2024-11-02T20:23:02.975468",
     "status": "completed"
    },
    "tags": []
   },
   "outputs": [
    {
     "name": "stdout",
     "output_type": "stream",
     "text": [
      "<class 'pandas.core.frame.DataFrame'>\n",
      "RangeIndex: 150 entries, 0 to 149\n",
      "Data columns (total 5 columns):\n",
      " #   Column        Non-Null Count  Dtype  \n",
      "---  ------        --------------  -----  \n",
      " 0   sepal_length  150 non-null    float64\n",
      " 1   sepal_width   150 non-null    float64\n",
      " 2   petal_length  150 non-null    float64\n",
      " 3   petal_width   150 non-null    float64\n",
      " 4   species       150 non-null    object \n",
      "dtypes: float64(4), object(1)\n",
      "memory usage: 6.0+ KB\n"
     ]
    }
   ],
   "source": [
    "df.info()"
   ]
  },
  {
   "cell_type": "code",
   "execution_count": 4,
   "id": "d1d72001",
   "metadata": {
    "execution": {
     "iopub.execute_input": "2024-11-02T20:23:03.035142Z",
     "iopub.status.busy": "2024-11-02T20:23:03.034715Z",
     "iopub.status.idle": "2024-11-02T20:23:04.162160Z",
     "shell.execute_reply": "2024-11-02T20:23:04.160924Z"
    },
    "id": "T6gA3fYxi9LW",
    "outputId": "6a852943-de7d-4927-e28a-9036dfd6f2b3",
    "papermill": {
     "duration": 1.140333,
     "end_time": "2024-11-02T20:23:04.165165",
     "exception": false,
     "start_time": "2024-11-02T20:23:03.024832",
     "status": "completed"
    },
    "tags": []
   },
   "outputs": [
    {
     "data": {
      "image/png": "[encoded data removed]",
      "text/plain": [
       "<Figure size 1000x800 with 4 Axes>"
      ]
     },
     "metadata": {},
     "output_type": "display_data"
    }
   ],
   "source": [
    "df.hist(column=['sepal_length', 'sepal_width', 'petal_length', 'petal_width'], bins=20, figsize=(10, 8))\n",
    "\n",
    "plt.show()"
   ]
  },
  {
   "cell_type": "markdown",
   "id": "1bae2793",
   "metadata": {
    "papermill": {
     "duration": 0.007764,
     "end_time": "2024-11-02T20:23:04.181295",
     "exception": false,
     "start_time": "2024-11-02T20:23:04.173531",
     "status": "completed"
    },
    "tags": []
   },
   "source": [
    "## Pré-processamento dos dados\n",
    "\n",
    "Agora começaremos o processo de limpeza e entendimento dos dados. Para essa tarefa, pretendo alcançar os seguintes objetivos:\n",
    "\n",
    "- Manipular o dataset conforme meu objetivo final, que será prever a especificação de uma flor com base em seus atributos.\n",
    "\n",
    "- Codificação de variáveis categóricas, como a *feature* \"species\" usando o Label Encoder.\n",
    "\n",
    "- Normalização dos dados numéricos utilizando o MinMax. Para isso, antes, iremos **dividir** os dados entre teste e treinamento, algo que será útil posteriormente no treino do modelo."
   ]
  },
  {
   "cell_type": "code",
   "execution_count": 5,
   "id": "f86c445c",
   "metadata": {
    "execution": {
     "iopub.execute_input": "2024-11-02T20:23:04.199469Z",
     "iopub.status.busy": "2024-11-02T20:23:04.198996Z",
     "iopub.status.idle": "2024-11-02T20:23:04.217715Z",
     "shell.execute_reply": "2024-11-02T20:23:04.216414Z"
    },
    "id": "36_cfVAUYozZ",
    "papermill": {
     "duration": 0.031172,
     "end_time": "2024-11-02T20:23:04.220681",
     "exception": false,
     "start_time": "2024-11-02T20:23:04.189509",
     "status": "completed"
    },
    "tags": []
   },
   "outputs": [
    {
     "data": {
      "text/html": [
       "<div>\n",
       "<style scoped>\n",
       "    .dataframe tbody tr th:only-of-type {\n",
       "        vertical-align: middle;\n",
       "    }\n",
       "\n",
       "    .dataframe tbody tr th {\n",
       "        vertical-align: top;\n",
       "    }\n",
       "\n",
       "    .dataframe thead th {\n",
       "        text-align: right;\n",
       "    }\n",
       "</style>\n",
       "<table border=\"1\" class=\"dataframe\">\n",
       "  <thead>\n",
       "    <tr style=\"text-align: right;\">\n",
       "      <th></th>\n",
       "      <th>sepal_length</th>\n",
       "      <th>sepal_width</th>\n",
       "      <th>petal_length</th>\n",
       "      <th>petal_width</th>\n",
       "      <th>species</th>\n",
       "    </tr>\n",
       "  </thead>\n",
       "  <tbody>\n",
       "    <tr>\n",
       "      <th>0</th>\n",
       "      <td>5.1</td>\n",
       "      <td>3.5</td>\n",
       "      <td>1.4</td>\n",
       "      <td>0.2</td>\n",
       "      <td>0</td>\n",
       "    </tr>\n",
       "    <tr>\n",
       "      <th>1</th>\n",
       "      <td>4.9</td>\n",
       "      <td>3.0</td>\n",
       "      <td>1.4</td>\n",
       "      <td>0.2</td>\n",
       "      <td>0</td>\n",
       "    </tr>\n",
       "    <tr>\n",
       "      <th>2</th>\n",
       "      <td>4.7</td>\n",
       "      <td>3.2</td>\n",
       "      <td>1.3</td>\n",
       "      <td>0.2</td>\n",
       "      <td>0</td>\n",
       "    </tr>\n",
       "    <tr>\n",
       "      <th>3</th>\n",
       "      <td>4.6</td>\n",
       "      <td>3.1</td>\n",
       "      <td>1.5</td>\n",
       "      <td>0.2</td>\n",
       "      <td>0</td>\n",
       "    </tr>\n",
       "    <tr>\n",
       "      <th>4</th>\n",
       "      <td>5.0</td>\n",
       "      <td>3.6</td>\n",
       "      <td>1.4</td>\n",
       "      <td>0.2</td>\n",
       "      <td>0</td>\n",
       "    </tr>\n",
       "  </tbody>\n",
       "</table>\n",
       "</div>"
      ],
      "text/plain": [
       "   sepal_length  sepal_width  petal_length  petal_width  species\n",
       "0           5.1          3.5           1.4          0.2        0\n",
       "1           4.9          3.0           1.4          0.2        0\n",
       "2           4.7          3.2           1.3          0.2        0\n",
       "3           4.6          3.1           1.5          0.2        0\n",
       "4           5.0          3.6           1.4          0.2        0"
      ]
     },
     "execution_count": 5,
     "metadata": {},
     "output_type": "execute_result"
    }
   ],
   "source": [
    "# Codificação de variáveis categóricas (coluna \"species\")\n",
    "\n",
    "le = sk.preprocessing.LabelEncoder()\n",
    "df[\"species\"] = le.fit_transform(df[\"species\"])\n",
    "\n",
    "df.head()"
   ]
  },
  {
   "cell_type": "code",
   "execution_count": 6,
   "id": "31e88ab6",
   "metadata": {
    "execution": {
     "iopub.execute_input": "2024-11-02T20:23:04.241041Z",
     "iopub.status.busy": "2024-11-02T20:23:04.240466Z",
     "iopub.status.idle": "2024-11-02T20:23:04.250786Z",
     "shell.execute_reply": "2024-11-02T20:23:04.249429Z"
    },
    "id": "bGfPbiTpmxbo",
    "papermill": {
     "duration": 0.023627,
     "end_time": "2024-11-02T20:23:04.253489",
     "exception": false,
     "start_time": "2024-11-02T20:23:04.229862",
     "status": "completed"
    },
    "tags": []
   },
   "outputs": [],
   "source": [
    "# Divisão dos dados entre treino e teste\n",
    "\n",
    "X = df.values[:,:-1] # Todas as linhas e colunas (exceto a última)\n",
    "Y = df.values[:,-1] # Todas as linhas da última coluna\n",
    "\n",
    "train_set_X, test_set_X, train_set_Y, test_set_Y = train_test_split(X, Y, test_size=0.30, random_state=7) # 70% dos dados para treinamento"
   ]
  },
  {
   "cell_type": "code",
   "execution_count": 7,
   "id": "2d57498b",
   "metadata": {
    "execution": {
     "iopub.execute_input": "2024-11-02T20:23:04.272406Z",
     "iopub.status.busy": "2024-11-02T20:23:04.271895Z",
     "iopub.status.idle": "2024-11-02T20:23:04.279668Z",
     "shell.execute_reply": "2024-11-02T20:23:04.278191Z"
    },
    "id": "6ugQcwVdo3ZJ",
    "papermill": {
     "duration": 0.020603,
     "end_time": "2024-11-02T20:23:04.282561",
     "exception": false,
     "start_time": "2024-11-02T20:23:04.261958",
     "status": "completed"
    },
    "tags": []
   },
   "outputs": [],
   "source": [
    "# Escalonamento dos dados numéricos\n",
    "\n",
    "scaler = MinMaxScaler()\n",
    "\n",
    "X_train_scaled = scaler.fit_transform(train_set_X)\n",
    "\n",
    "X_test_scaled = scaler.transform(test_set_X) # Usa os parâmetros ajustados do conjunto de treino para transformar o conjunto de teste, isso evita viés"
   ]
  },
  {
   "cell_type": "code",
   "execution_count": 8,
   "id": "4cd76586",
   "metadata": {
    "execution": {
     "iopub.execute_input": "2024-11-02T20:23:04.301507Z",
     "iopub.status.busy": "2024-11-02T20:23:04.301007Z",
     "iopub.status.idle": "2024-11-02T20:23:04.310823Z",
     "shell.execute_reply": "2024-11-02T20:23:04.309442Z"
    },
    "id": "mipjE2Riq-Gy",
    "outputId": "02d3ce44-8033-4865-df18-8554977d1dd3",
    "papermill": {
     "duration": 0.02212,
     "end_time": "2024-11-02T20:23:04.313257",
     "exception": false,
     "start_time": "2024-11-02T20:23:04.291137",
     "status": "completed"
    },
    "tags": []
   },
   "outputs": [
    {
     "name": "stdout",
     "output_type": "stream",
     "text": [
      "Número de atributos: n = 4\n",
      "Número de exemplos de treinamento: m = 105\n",
      "Formato do conjunto de treino X: (105, 4)\n",
      "Formato do conjunto de treino Y: (105,)\n",
      "Formato do conjunto de teste X: (45, 4)\n",
      "Formato do conjunto de teste Y: (45,)\n"
     ]
    }
   ],
   "source": [
    "# Exibição dos dados após normalização\n",
    "\n",
    "n = train_set_X.shape[1]  # número de atributos\n",
    "m = train_set_X.shape[0]  # número de exemplos de treinamento\n",
    "\n",
    "print(\"Número de atributos: n = \" + str(n))\n",
    "print(\"Número de exemplos de treinamento: m = \" + str(m))\n",
    "print(\"Formato do conjunto de treino X: \" + str(train_set_X.shape))\n",
    "print(\"Formato do conjunto de treino Y: \" + str(train_set_Y.shape))\n",
    "print(\"Formato do conjunto de teste X: \" + str(test_set_X.shape))\n",
    "print(\"Formato do conjunto de teste Y: \" + str(test_set_Y.shape))"
   ]
  },
  {
   "cell_type": "markdown",
   "id": "4a8ce690",
   "metadata": {
    "id": "X3FtYyzfrkJ6",
    "papermill": {
     "duration": 0.008098,
     "end_time": "2024-11-02T20:23:04.329969",
     "exception": false,
     "start_time": "2024-11-02T20:23:04.321871",
     "status": "completed"
    },
    "tags": []
   },
   "source": [
    "## Configuração do modelo\n",
    "\n",
    "- Definição da estrutura da rede neural, sendo composta por:\n",
    "    1. Entrada com quantidade de neurônios iguais à quantidade de atributos.\n",
    "    2. Primeira camada oculta densa, com 64 unidades, usando a função de ativação *Leaky ReLU*. Essa camada será usada para configurar um *dropout* (estratégia que usarei para evitar *overfitting*, visto que o número de instâncias é relativamente pequena).\n",
    "    3. Segunda camada oculta densa, já afetada pelo dropout da primeira. Ela é composta por 32 unidades, com a função de ativação *Leaky ReLU*. Essa camada também será usada para a criação de outro *dropout*.\n",
    "    4. A terceira camada oculta densa conta com 16 unidades, também utilizando a função de ativação *Leaky ReLU*.\n",
    "    5. Por fim, a camada de saída contém 3 neurônios, cada um representando uma das classes distintas do *dataset*. Essa camada usa a função de ativação *softmax*, que é adequada para problemas de classificação multiclasse, pois retorna uma probabilidade para cada classe, totalizando 1."
   ]
  },
  {
   "cell_type": "code",
   "execution_count": 9,
   "id": "4f2fc409",
   "metadata": {
    "execution": {
     "iopub.execute_input": "2024-11-02T20:23:04.349445Z",
     "iopub.status.busy": "2024-11-02T20:23:04.348957Z",
     "iopub.status.idle": "2024-11-02T20:23:04.544743Z",
     "shell.execute_reply": "2024-11-02T20:23:04.543632Z"
    },
    "id": "rF7ux3QmryYx",
    "papermill": {
     "duration": 0.209305,
     "end_time": "2024-11-02T20:23:04.547909",
     "exception": false,
     "start_time": "2024-11-02T20:23:04.338604",
     "status": "completed"
    },
    "tags": []
   },
   "outputs": [],
   "source": [
    "inputs = keras.Input(shape=(train_set_X.shape[1],))  # Mesma quantidade dos atributos\n",
    "layer1 = keras.layers.Dense(units=64, activation='leaky_relu')(inputs)\n",
    "dropout1 = keras.layers.Dropout(0.2)(layer1)\n",
    "layer2 = keras.layers.Dense(units=32, activation='leaky_relu')(dropout1)\n",
    "dropout2 = keras.layers.Dropout(0.2)(layer2)\n",
    "layer3 = keras.layers.Dense(units=16, activation='leaky_relu')(dropout2)\n",
    "outputs = keras.layers.Dense(units=3, activation=\"softmax\")(layer3)  # Quantidade de classes diferentes\n",
    "\n",
    "model = keras.models.Model(inputs=inputs, outputs=outputs)"
   ]
  },
  {
   "cell_type": "code",
   "execution_count": 10,
   "id": "b8d70f3e",
   "metadata": {
    "execution": {
     "iopub.execute_input": "2024-11-02T20:23:04.567833Z",
     "iopub.status.busy": "2024-11-02T20:23:04.567385Z",
     "iopub.status.idle": "2024-11-02T20:23:04.594878Z",
     "shell.execute_reply": "2024-11-02T20:23:04.593665Z"
    },
    "id": "awR5oFjkuX0W",
    "outputId": "896a920d-3f41-4896-b052-9b1bb9a3d17a",
    "papermill": {
     "duration": 0.040741,
     "end_time": "2024-11-02T20:23:04.597508",
     "exception": false,
     "start_time": "2024-11-02T20:23:04.556767",
     "status": "completed"
    },
    "tags": []
   },
   "outputs": [
    {
     "data": {
      "text/html": [
       "<pre style=\"white-space:pre;overflow-x:auto;line-height:normal;font-family:Menlo,'DejaVu Sans Mono',consolas,'Courier New',monospace\"><span style=\"font-weight: bold\">Model: \"functional_1\"</span>\n",
       "</pre>\n"
      ],
      "text/plain": [
       "\u001b[1mModel: \"functional_1\"\u001b[0m\n"
      ]
     },
     "metadata": {},
     "output_type": "display_data"
    },
    {
     "data": {
      "text/html": [
       "<pre style=\"white-space:pre;overflow-x:auto;line-height:normal;font-family:Menlo,'DejaVu Sans Mono',consolas,'Courier New',monospace\">┏━━━━━━━━━━━━━━━━━━━━━━━━━━━━━━━━━┳━━━━━━━━━━━━━━━━━━━━━━━━┳━━━━━━━━━━━━━━━┓\n",
       "┃<span style=\"font-weight: bold\"> Layer (type)                    </span>┃<span style=\"font-weight: bold\"> Output Shape           </span>┃<span style=\"font-weight: bold\">       Param # </span>┃\n",
       "┡━━━━━━━━━━━━━━━━━━━━━━━━━━━━━━━━━╇━━━━━━━━━━━━━━━━━━━━━━━━╇━━━━━━━━━━━━━━━┩\n",
       "│ input_layer (<span style=\"color: #0087ff; text-decoration-color: #0087ff\">InputLayer</span>)        │ (<span style=\"color: #00d7ff; text-decoration-color: #00d7ff\">None</span>, <span style=\"color: #00af00; text-decoration-color: #00af00\">4</span>)              │             <span style=\"color: #00af00; text-decoration-color: #00af00\">0</span> │\n",
       "├─────────────────────────────────┼────────────────────────┼───────────────┤\n",
       "│ dense (<span style=\"color: #0087ff; text-decoration-color: #0087ff\">Dense</span>)                   │ (<span style=\"color: #00d7ff; text-decoration-color: #00d7ff\">None</span>, <span style=\"color: #00af00; text-decoration-color: #00af00\">64</span>)             │           <span style=\"color: #00af00; text-decoration-color: #00af00\">320</span> │\n",
       "├─────────────────────────────────┼────────────────────────┼───────────────┤\n",
       "│ dropout (<span style=\"color: #0087ff; text-decoration-color: #0087ff\">Dropout</span>)               │ (<span style=\"color: #00d7ff; text-decoration-color: #00d7ff\">None</span>, <span style=\"color: #00af00; text-decoration-color: #00af00\">64</span>)             │             <span style=\"color: #00af00; text-decoration-color: #00af00\">0</span> │\n",
       "├─────────────────────────────────┼────────────────────────┼───────────────┤\n",
       "│ dense_1 (<span style=\"color: #0087ff; text-decoration-color: #0087ff\">Dense</span>)                 │ (<span style=\"color: #00d7ff; text-decoration-color: #00d7ff\">None</span>, <span style=\"color: #00af00; text-decoration-color: #00af00\">32</span>)             │         <span style=\"color: #00af00; text-decoration-color: #00af00\">2,080</span> │\n",
       "├─────────────────────────────────┼────────────────────────┼───────────────┤\n",
       "│ dropout_1 (<span style=\"color: #0087ff; text-decoration-color: #0087ff\">Dropout</span>)             │ (<span style=\"color: #00d7ff; text-decoration-color: #00d7ff\">None</span>, <span style=\"color: #00af00; text-decoration-color: #00af00\">32</span>)             │             <span style=\"color: #00af00; text-decoration-color: #00af00\">0</span> │\n",
       "├─────────────────────────────────┼────────────────────────┼───────────────┤\n",
       "│ dense_2 (<span style=\"color: #0087ff; text-decoration-color: #0087ff\">Dense</span>)                 │ (<span style=\"color: #00d7ff; text-decoration-color: #00d7ff\">None</span>, <span style=\"color: #00af00; text-decoration-color: #00af00\">16</span>)             │           <span style=\"color: #00af00; text-decoration-color: #00af00\">528</span> │\n",
       "├─────────────────────────────────┼────────────────────────┼───────────────┤\n",
       "│ dense_3 (<span style=\"color: #0087ff; text-decoration-color: #0087ff\">Dense</span>)                 │ (<span style=\"color: #00d7ff; text-decoration-color: #00d7ff\">None</span>, <span style=\"color: #00af00; text-decoration-color: #00af00\">3</span>)              │            <span style=\"color: #00af00; text-decoration-color: #00af00\">51</span> │\n",
       "└─────────────────────────────────┴────────────────────────┴───────────────┘\n",
       "</pre>\n"
      ],
      "text/plain": [
       "┏━━━━━━━━━━━━━━━━━━━━━━━━━━━━━━━━━┳━━━━━━━━━━━━━━━━━━━━━━━━┳━━━━━━━━━━━━━━━┓\n",
       "┃\u001b[1m \u001b[0m\u001b[1mLayer (type)                   \u001b[0m\u001b[1m \u001b[0m┃\u001b[1m \u001b[0m\u001b[1mOutput Shape          \u001b[0m\u001b[1m \u001b[0m┃\u001b[1m \u001b[0m\u001b[1m      Param #\u001b[0m\u001b[1m \u001b[0m┃\n",
       "┡━━━━━━━━━━━━━━━━━━━━━━━━━━━━━━━━━╇━━━━━━━━━━━━━━━━━━━━━━━━╇━━━━━━━━━━━━━━━┩\n",
       "│ input_layer (\u001b[38;5;33mInputLayer\u001b[0m)        │ (\u001b[38;5;45mNone\u001b[0m, \u001b[38;5;34m4\u001b[0m)              │             \u001b[38;5;34m0\u001b[0m │\n",
       "├─────────────────────────────────┼────────────────────────┼───────────────┤\n",
       "│ dense (\u001b[38;5;33mDense\u001b[0m)                   │ (\u001b[38;5;45mNone\u001b[0m, \u001b[38;5;34m64\u001b[0m)             │           \u001b[38;5;34m320\u001b[0m │\n",
       "├─────────────────────────────────┼────────────────────────┼───────────────┤\n",
       "│ dropout (\u001b[38;5;33mDropout\u001b[0m)               │ (\u001b[38;5;45mNone\u001b[0m, \u001b[38;5;34m64\u001b[0m)             │             \u001b[38;5;34m0\u001b[0m │\n",
       "├─────────────────────────────────┼────────────────────────┼───────────────┤\n",
       "│ dense_1 (\u001b[38;5;33mDense\u001b[0m)                 │ (\u001b[38;5;45mNone\u001b[0m, \u001b[38;5;34m32\u001b[0m)             │         \u001b[38;5;34m2,080\u001b[0m │\n",
       "├─────────────────────────────────┼────────────────────────┼───────────────┤\n",
       "│ dropout_1 (\u001b[38;5;33mDropout\u001b[0m)             │ (\u001b[38;5;45mNone\u001b[0m, \u001b[38;5;34m32\u001b[0m)             │             \u001b[38;5;34m0\u001b[0m │\n",
       "├─────────────────────────────────┼────────────────────────┼───────────────┤\n",
       "│ dense_2 (\u001b[38;5;33mDense\u001b[0m)                 │ (\u001b[38;5;45mNone\u001b[0m, \u001b[38;5;34m16\u001b[0m)             │           \u001b[38;5;34m528\u001b[0m │\n",
       "├─────────────────────────────────┼────────────────────────┼───────────────┤\n",
       "│ dense_3 (\u001b[38;5;33mDense\u001b[0m)                 │ (\u001b[38;5;45mNone\u001b[0m, \u001b[38;5;34m3\u001b[0m)              │            \u001b[38;5;34m51\u001b[0m │\n",
       "└─────────────────────────────────┴────────────────────────┴───────────────┘\n"
      ]
     },
     "metadata": {},
     "output_type": "display_data"
    },
    {
     "data": {
      "text/html": [
       "<pre style=\"white-space:pre;overflow-x:auto;line-height:normal;font-family:Menlo,'DejaVu Sans Mono',consolas,'Courier New',monospace\"><span style=\"font-weight: bold\"> Total params: </span><span style=\"color: #00af00; text-decoration-color: #00af00\">2,979</span> (11.64 KB)\n",
       "</pre>\n"
      ],
      "text/plain": [
       "\u001b[1m Total params: \u001b[0m\u001b[38;5;34m2,979\u001b[0m (11.64 KB)\n"
      ]
     },
     "metadata": {},
     "output_type": "display_data"
    },
    {
     "data": {
      "text/html": [
       "<pre style=\"white-space:pre;overflow-x:auto;line-height:normal;font-family:Menlo,'DejaVu Sans Mono',consolas,'Courier New',monospace\"><span style=\"font-weight: bold\"> Trainable params: </span><span style=\"color: #00af00; text-decoration-color: #00af00\">2,979</span> (11.64 KB)\n",
       "</pre>\n"
      ],
      "text/plain": [
       "\u001b[1m Trainable params: \u001b[0m\u001b[38;5;34m2,979\u001b[0m (11.64 KB)\n"
      ]
     },
     "metadata": {},
     "output_type": "display_data"
    },
    {
     "data": {
      "text/html": [
       "<pre style=\"white-space:pre;overflow-x:auto;line-height:normal;font-family:Menlo,'DejaVu Sans Mono',consolas,'Courier New',monospace\"><span style=\"font-weight: bold\"> Non-trainable params: </span><span style=\"color: #00af00; text-decoration-color: #00af00\">0</span> (0.00 B)\n",
       "</pre>\n"
      ],
      "text/plain": [
       "\u001b[1m Non-trainable params: \u001b[0m\u001b[38;5;34m0\u001b[0m (0.00 B)\n"
      ]
     },
     "metadata": {},
     "output_type": "display_data"
    }
   ],
   "source": [
    "# Informações da rede\n",
    "\n",
    "model.summary()"
   ]
  },
  {
   "cell_type": "markdown",
   "id": "c7f25b73",
   "metadata": {
    "id": "Jkv5CVvuvMfW",
    "papermill": {
     "duration": 0.009652,
     "end_time": "2024-11-02T20:23:04.617789",
     "exception": false,
     "start_time": "2024-11-02T20:23:04.608137",
     "status": "completed"
    },
    "tags": []
   },
   "source": [
    "## Execução do modelo preditivo\n",
    "\n",
    "Agora vamos, enfim, utilizar os dados já organizados para o treinamento do nosso modelo. Nesse sentido, usaremos a rede neural artifical configurada logo acima. Usaremos algumas métricas diferentes, como a *sparse categorical crossentropy*, além da *accuracy*. O otimizador utilizado será o Adam, com uma taxa de aprendizado de 0,001."
   ]
  },
  {
   "cell_type": "code",
   "execution_count": 11,
   "id": "6aeb2499",
   "metadata": {
    "execution": {
     "iopub.execute_input": "2024-11-02T20:23:04.639531Z",
     "iopub.status.busy": "2024-11-02T20:23:04.639051Z",
     "iopub.status.idle": "2024-11-02T20:23:04.658132Z",
     "shell.execute_reply": "2024-11-02T20:23:04.656940Z"
    },
    "id": "a7TX0MSkvUhF",
    "papermill": {
     "duration": 0.033189,
     "end_time": "2024-11-02T20:23:04.660934",
     "exception": false,
     "start_time": "2024-11-02T20:23:04.627745",
     "status": "completed"
    },
    "tags": []
   },
   "outputs": [],
   "source": [
    "optimizer = Adam(learning_rate=0.001)\n",
    "\n",
    "model.compile(optimizer,\n",
    "              loss='sparse_categorical_crossentropy',\n",
    "              metrics=['accuracy', keras.metrics.SparseCategoricalAccuracy()])"
   ]
  },
  {
   "cell_type": "code",
   "execution_count": 12,
   "id": "4cf1ee1a",
   "metadata": {
    "execution": {
     "iopub.execute_input": "2024-11-02T20:23:04.682537Z",
     "iopub.status.busy": "2024-11-02T20:23:04.682053Z",
     "iopub.status.idle": "2024-11-02T20:23:08.628027Z",
     "shell.execute_reply": "2024-11-02T20:23:08.626621Z"
    },
    "id": "wjjzRZeIvcYl",
    "outputId": "061092c1-4553-4287-feea-6ebf07cae702",
    "papermill": {
     "duration": 3.960203,
     "end_time": "2024-11-02T20:23:08.631061",
     "exception": false,
     "start_time": "2024-11-02T20:23:04.670858",
     "status": "completed"
    },
    "tags": []
   },
   "outputs": [
    {
     "name": "stdout",
     "output_type": "stream",
     "text": [
      "Epoch 1/50\n",
      "\u001b[1m4/4\u001b[0m \u001b[32m━━━━━━━━━━━━━━━━━━━━\u001b[0m\u001b[37m\u001b[0m \u001b[1m2s\u001b[0m 5ms/step - accuracy: 0.3087 - loss: 1.2546 - sparse_categorical_accuracy: 0.3087\n",
      "Epoch 2/50\n",
      "\u001b[1m4/4\u001b[0m \u001b[32m━━━━━━━━━━━━━━━━━━━━\u001b[0m\u001b[37m\u001b[0m \u001b[1m0s\u001b[0m 4ms/step - accuracy: 0.4495 - loss: 1.0813 - sparse_categorical_accuracy: 0.4495 \n",
      "Epoch 3/50\n",
      "\u001b[1m4/4\u001b[0m \u001b[32m━━━━━━━━━━━━━━━━━━━━\u001b[0m\u001b[37m\u001b[0m \u001b[1m0s\u001b[0m 4ms/step - accuracy: 0.4284 - loss: 1.0568 - sparse_categorical_accuracy: 0.4284 \n",
      "Epoch 4/50\n",
      "\u001b[1m4/4\u001b[0m \u001b[32m━━━━━━━━━━━━━━━━━━━━\u001b[0m\u001b[37m\u001b[0m \u001b[1m0s\u001b[0m 4ms/step - accuracy: 0.5546 - loss: 0.9940 - sparse_categorical_accuracy: 0.5546 \n",
      "Epoch 5/50\n",
      "\u001b[1m4/4\u001b[0m \u001b[32m━━━━━━━━━━━━━━━━━━━━\u001b[0m\u001b[37m\u001b[0m \u001b[1m0s\u001b[0m 4ms/step - accuracy: 0.5324 - loss: 0.9489 - sparse_categorical_accuracy: 0.5324 \n",
      "Epoch 6/50\n",
      "\u001b[1m4/4\u001b[0m \u001b[32m━━━━━━━━━━━━━━━━━━━━\u001b[0m\u001b[37m\u001b[0m \u001b[1m0s\u001b[0m 3ms/step - accuracy: 0.6150 - loss: 0.9176 - sparse_categorical_accuracy: 0.6150 \n",
      "Epoch 7/50\n",
      "\u001b[1m4/4\u001b[0m \u001b[32m━━━━━━━━━━━━━━━━━━━━\u001b[0m\u001b[37m\u001b[0m \u001b[1m0s\u001b[0m 4ms/step - accuracy: 0.6653 - loss: 0.8803 - sparse_categorical_accuracy: 0.6653 \n",
      "Epoch 8/50\n",
      "\u001b[1m4/4\u001b[0m \u001b[32m━━━━━━━━━━━━━━━━━━━━\u001b[0m\u001b[37m\u001b[0m \u001b[1m0s\u001b[0m 4ms/step - accuracy: 0.6795 - loss: 0.8396 - sparse_categorical_accuracy: 0.6795 \n",
      "Epoch 9/50\n",
      "\u001b[1m4/4\u001b[0m \u001b[32m━━━━━━━━━━━━━━━━━━━━\u001b[0m\u001b[37m\u001b[0m \u001b[1m0s\u001b[0m 4ms/step - accuracy: 0.6611 - loss: 0.8190 - sparse_categorical_accuracy: 0.6611 \n",
      "Epoch 10/50\n",
      "\u001b[1m4/4\u001b[0m \u001b[32m━━━━━━━━━━━━━━━━━━━━\u001b[0m\u001b[37m\u001b[0m \u001b[1m0s\u001b[0m 4ms/step - accuracy: 0.7416 - loss: 0.7502 - sparse_categorical_accuracy: 0.7416 \n",
      "Epoch 11/50\n",
      "\u001b[1m4/4\u001b[0m \u001b[32m━━━━━━━━━━━━━━━━━━━━\u001b[0m\u001b[37m\u001b[0m \u001b[1m0s\u001b[0m 4ms/step - accuracy: 0.7149 - loss: 0.7002 - sparse_categorical_accuracy: 0.7149 \n",
      "Epoch 12/50\n",
      "\u001b[1m4/4\u001b[0m \u001b[32m━━━━━━━━━━━━━━━━━━━━\u001b[0m\u001b[37m\u001b[0m \u001b[1m0s\u001b[0m 4ms/step - accuracy: 0.7072 - loss: 0.7147 - sparse_categorical_accuracy: 0.7072 \n",
      "Epoch 13/50\n",
      "\u001b[1m4/4\u001b[0m \u001b[32m━━━━━━━━━━━━━━━━━━━━\u001b[0m\u001b[37m\u001b[0m \u001b[1m0s\u001b[0m 4ms/step - accuracy: 0.7718 - loss: 0.6162 - sparse_categorical_accuracy: 0.7718 \n",
      "Epoch 14/50\n",
      "\u001b[1m4/4\u001b[0m \u001b[32m━━━━━━━━━━━━━━━━━━━━\u001b[0m\u001b[37m\u001b[0m \u001b[1m0s\u001b[0m 3ms/step - accuracy: 0.7818 - loss: 0.5915 - sparse_categorical_accuracy: 0.7818 \n",
      "Epoch 15/50\n",
      "\u001b[1m4/4\u001b[0m \u001b[32m━━━━━━━━━━━━━━━━━━━━\u001b[0m\u001b[37m\u001b[0m \u001b[1m0s\u001b[0m 4ms/step - accuracy: 0.7673 - loss: 0.5661 - sparse_categorical_accuracy: 0.7673 \n",
      "Epoch 16/50\n",
      "\u001b[1m4/4\u001b[0m \u001b[32m━━━━━━━━━━━━━━━━━━━━\u001b[0m\u001b[37m\u001b[0m \u001b[1m0s\u001b[0m 4ms/step - accuracy: 0.7263 - loss: 0.6049 - sparse_categorical_accuracy: 0.7263 \n",
      "Epoch 17/50\n",
      "\u001b[1m4/4\u001b[0m \u001b[32m━━━━━━━━━━━━━━━━━━━━\u001b[0m\u001b[37m\u001b[0m \u001b[1m0s\u001b[0m 4ms/step - accuracy: 0.7610 - loss: 0.5404 - sparse_categorical_accuracy: 0.7610 \n",
      "Epoch 18/50\n",
      "\u001b[1m4/4\u001b[0m \u001b[32m━━━━━━━━━━━━━━━━━━━━\u001b[0m\u001b[37m\u001b[0m \u001b[1m0s\u001b[0m 4ms/step - accuracy: 0.7051 - loss: 0.5715 - sparse_categorical_accuracy: 0.7051 \n",
      "Epoch 19/50\n",
      "\u001b[1m4/4\u001b[0m \u001b[32m━━━━━━━━━━━━━━━━━━━━\u001b[0m\u001b[37m\u001b[0m \u001b[1m0s\u001b[0m 4ms/step - accuracy: 0.7634 - loss: 0.4772 - sparse_categorical_accuracy: 0.7634 \n",
      "Epoch 20/50\n",
      "\u001b[1m4/4\u001b[0m \u001b[32m━━━━━━━━━━━━━━━━━━━━\u001b[0m\u001b[37m\u001b[0m \u001b[1m0s\u001b[0m 4ms/step - accuracy: 0.7426 - loss: 0.4734 - sparse_categorical_accuracy: 0.7426 \n",
      "Epoch 21/50\n",
      "\u001b[1m4/4\u001b[0m \u001b[32m━━━━━━━━━━━━━━━━━━━━\u001b[0m\u001b[37m\u001b[0m \u001b[1m0s\u001b[0m 4ms/step - accuracy: 0.8724 - loss: 0.3533 - sparse_categorical_accuracy: 0.8724 \n",
      "Epoch 22/50\n",
      "\u001b[1m4/4\u001b[0m \u001b[32m━━━━━━━━━━━━━━━━━━━━\u001b[0m\u001b[37m\u001b[0m \u001b[1m0s\u001b[0m 4ms/step - accuracy: 0.8644 - loss: 0.4067 - sparse_categorical_accuracy: 0.8644 \n",
      "Epoch 23/50\n",
      "\u001b[1m4/4\u001b[0m \u001b[32m━━━━━━━━━━━━━━━━━━━━\u001b[0m\u001b[37m\u001b[0m \u001b[1m0s\u001b[0m 4ms/step - accuracy: 0.8235 - loss: 0.3931 - sparse_categorical_accuracy: 0.8235 \n",
      "Epoch 24/50\n",
      "\u001b[1m4/4\u001b[0m \u001b[32m━━━━━━━━━━━━━━━━━━━━\u001b[0m\u001b[37m\u001b[0m \u001b[1m0s\u001b[0m 4ms/step - accuracy: 0.8019 - loss: 0.4223 - sparse_categorical_accuracy: 0.8019 \n",
      "Epoch 25/50\n",
      "\u001b[1m4/4\u001b[0m \u001b[32m━━━━━━━━━━━━━━━━━━━━\u001b[0m\u001b[37m\u001b[0m \u001b[1m0s\u001b[0m 3ms/step - accuracy: 0.7558 - loss: 0.4052 - sparse_categorical_accuracy: 0.7558 \n",
      "Epoch 26/50\n",
      "\u001b[1m4/4\u001b[0m \u001b[32m━━━━━━━━━━━━━━━━━━━━\u001b[0m\u001b[37m\u001b[0m \u001b[1m0s\u001b[0m 3ms/step - accuracy: 0.7638 - loss: 0.4327 - sparse_categorical_accuracy: 0.7638 \n",
      "Epoch 27/50\n",
      "\u001b[1m4/4\u001b[0m \u001b[32m━━━━━━━━━━━━━━━━━━━━\u001b[0m\u001b[37m\u001b[0m \u001b[1m0s\u001b[0m 4ms/step - accuracy: 0.8221 - loss: 0.3593 - sparse_categorical_accuracy: 0.8221 \n",
      "Epoch 28/50\n",
      "\u001b[1m4/4\u001b[0m \u001b[32m━━━━━━━━━━━━━━━━━━━━\u001b[0m\u001b[37m\u001b[0m \u001b[1m0s\u001b[0m 4ms/step - accuracy: 0.8776 - loss: 0.3438 - sparse_categorical_accuracy: 0.8776 \n",
      "Epoch 29/50\n",
      "\u001b[1m4/4\u001b[0m \u001b[32m━━━━━━━━━━━━━━━━━━━━\u001b[0m\u001b[37m\u001b[0m \u001b[1m0s\u001b[0m 3ms/step - accuracy: 0.8543 - loss: 0.3660 - sparse_categorical_accuracy: 0.8543 \n",
      "Epoch 30/50\n",
      "\u001b[1m4/4\u001b[0m \u001b[32m━━━━━━━━━━━━━━━━━━━━\u001b[0m\u001b[37m\u001b[0m \u001b[1m0s\u001b[0m 3ms/step - accuracy: 0.8297 - loss: 0.3349 - sparse_categorical_accuracy: 0.8297 \n",
      "Epoch 31/50\n",
      "\u001b[1m4/4\u001b[0m \u001b[32m━━━━━━━━━━━━━━━━━━━━\u001b[0m\u001b[37m\u001b[0m \u001b[1m0s\u001b[0m 3ms/step - accuracy: 0.8189 - loss: 0.3982 - sparse_categorical_accuracy: 0.8189 \n",
      "Epoch 32/50\n",
      "\u001b[1m4/4\u001b[0m \u001b[32m━━━━━━━━━━━━━━━━━━━━\u001b[0m\u001b[37m\u001b[0m \u001b[1m0s\u001b[0m 3ms/step - accuracy: 0.8880 - loss: 0.2819 - sparse_categorical_accuracy: 0.8880 \n",
      "Epoch 33/50\n",
      "\u001b[1m4/4\u001b[0m \u001b[32m━━━━━━━━━━━━━━━━━━━━\u001b[0m\u001b[37m\u001b[0m \u001b[1m0s\u001b[0m 3ms/step - accuracy: 0.8720 - loss: 0.3054 - sparse_categorical_accuracy: 0.8720 \n",
      "Epoch 34/50\n",
      "\u001b[1m4/4\u001b[0m \u001b[32m━━━━━━━━━━━━━━━━━━━━\u001b[0m\u001b[37m\u001b[0m \u001b[1m0s\u001b[0m 4ms/step - accuracy: 0.8609 - loss: 0.3327 - sparse_categorical_accuracy: 0.8609 \n",
      "Epoch 35/50\n",
      "\u001b[1m4/4\u001b[0m \u001b[32m━━━━━━━━━━━━━━━━━━━━\u001b[0m\u001b[37m\u001b[0m \u001b[1m0s\u001b[0m 4ms/step - accuracy: 0.8800 - loss: 0.2795 - sparse_categorical_accuracy: 0.8800 \n",
      "Epoch 36/50\n",
      "\u001b[1m4/4\u001b[0m \u001b[32m━━━━━━━━━━━━━━━━━━━━\u001b[0m\u001b[37m\u001b[0m \u001b[1m0s\u001b[0m 4ms/step - accuracy: 0.9147 - loss: 0.2476 - sparse_categorical_accuracy: 0.9147 \n",
      "Epoch 37/50\n",
      "\u001b[1m4/4\u001b[0m \u001b[32m━━━━━━━━━━━━━━━━━━━━\u001b[0m\u001b[37m\u001b[0m \u001b[1m0s\u001b[0m 4ms/step - accuracy: 0.8967 - loss: 0.2779 - sparse_categorical_accuracy: 0.8967 \n",
      "Epoch 38/50\n",
      "\u001b[1m4/4\u001b[0m \u001b[32m━━━━━━━━━━━━━━━━━━━━\u001b[0m\u001b[37m\u001b[0m \u001b[1m0s\u001b[0m 4ms/step - accuracy: 0.8772 - loss: 0.2687 - sparse_categorical_accuracy: 0.8772 \n",
      "Epoch 39/50\n",
      "\u001b[1m4/4\u001b[0m \u001b[32m━━━━━━━━━━━━━━━━━━━━\u001b[0m\u001b[37m\u001b[0m \u001b[1m0s\u001b[0m 4ms/step - accuracy: 0.9428 - loss: 0.2407 - sparse_categorical_accuracy: 0.9428 \n",
      "Epoch 40/50\n",
      "\u001b[1m4/4\u001b[0m \u001b[32m━━━━━━━━━━━━━━━━━━━━\u001b[0m\u001b[37m\u001b[0m \u001b[1m0s\u001b[0m 3ms/step - accuracy: 0.8540 - loss: 0.3354 - sparse_categorical_accuracy: 0.8540 \n",
      "Epoch 41/50\n",
      "\u001b[1m4/4\u001b[0m \u001b[32m━━━━━━━━━━━━━━━━━━━━\u001b[0m\u001b[37m\u001b[0m \u001b[1m0s\u001b[0m 3ms/step - accuracy: 0.9296 - loss: 0.2416 - sparse_categorical_accuracy: 0.9296 \n",
      "Epoch 42/50\n",
      "\u001b[1m4/4\u001b[0m \u001b[32m━━━━━━━━━━━━━━━━━━━━\u001b[0m\u001b[37m\u001b[0m \u001b[1m0s\u001b[0m 4ms/step - accuracy: 0.8828 - loss: 0.2739 - sparse_categorical_accuracy: 0.8828 \n",
      "Epoch 43/50\n",
      "\u001b[1m4/4\u001b[0m \u001b[32m━━━━━━━━━━━━━━━━━━━━\u001b[0m\u001b[37m\u001b[0m \u001b[1m0s\u001b[0m 4ms/step - accuracy: 0.9185 - loss: 0.2641 - sparse_categorical_accuracy: 0.9185 \n",
      "Epoch 44/50\n",
      "\u001b[1m4/4\u001b[0m \u001b[32m━━━━━━━━━━━━━━━━━━━━\u001b[0m\u001b[37m\u001b[0m \u001b[1m0s\u001b[0m 4ms/step - accuracy: 0.9574 - loss: 0.1834 - sparse_categorical_accuracy: 0.9574 \n",
      "Epoch 45/50\n",
      "\u001b[1m4/4\u001b[0m \u001b[32m━━━━━━━━━━━━━━━━━━━━\u001b[0m\u001b[37m\u001b[0m \u001b[1m0s\u001b[0m 4ms/step - accuracy: 0.9324 - loss: 0.2568 - sparse_categorical_accuracy: 0.9324 \n",
      "Epoch 46/50\n",
      "\u001b[1m4/4\u001b[0m \u001b[32m━━━━━━━━━━━━━━━━━━━━\u001b[0m\u001b[37m\u001b[0m \u001b[1m0s\u001b[0m 4ms/step - accuracy: 0.9230 - loss: 0.2105 - sparse_categorical_accuracy: 0.9230 \n",
      "Epoch 47/50\n",
      "\u001b[1m4/4\u001b[0m \u001b[32m━━━━━━━━━━━━━━━━━━━━\u001b[0m\u001b[37m\u001b[0m \u001b[1m0s\u001b[0m 4ms/step - accuracy: 0.8904 - loss: 0.2313 - sparse_categorical_accuracy: 0.8904 \n",
      "Epoch 48/50\n",
      "\u001b[1m4/4\u001b[0m \u001b[32m━━━━━━━━━━━━━━━━━━━━\u001b[0m\u001b[37m\u001b[0m \u001b[1m0s\u001b[0m 4ms/step - accuracy: 0.9365 - loss: 0.2028 - sparse_categorical_accuracy: 0.9365 \n",
      "Epoch 49/50\n",
      "\u001b[1m4/4\u001b[0m \u001b[32m━━━━━━━━━━━━━━━━━━━━\u001b[0m\u001b[37m\u001b[0m \u001b[1m0s\u001b[0m 4ms/step - accuracy: 0.9060 - loss: 0.2166 - sparse_categorical_accuracy: 0.9060 \n",
      "Epoch 50/50\n",
      "\u001b[1m4/4\u001b[0m \u001b[32m━━━━━━━━━━━━━━━━━━━━\u001b[0m\u001b[37m\u001b[0m \u001b[1m0s\u001b[0m 4ms/step - accuracy: 0.9181 - loss: 0.1798 - sparse_categorical_accuracy: 0.9181 \n",
      "{'accuracy': [0.32380953431129456, 0.4571428596973419, 0.43809524178504944, 0.5428571701049805, 0.523809552192688, 0.6285714507102966, 0.6476190686225891, 0.6857143044471741, 0.6761904954910278, 0.7523809671401978, 0.7142857313156128, 0.723809540271759, 0.7523809671401978, 0.7904762029647827, 0.761904776096344, 0.7142857313156128, 0.761904776096344, 0.7523809671401978, 0.7809523940086365, 0.7809523940086365, 0.8476190567016602, 0.8666666746139526, 0.8190476298332214, 0.8095238208770752, 0.761904776096344, 0.7714285850524902, 0.8285714387893677, 0.8761904835700989, 0.8571428656578064, 0.8190476298332214, 0.8285714387893677, 0.8761904835700989, 0.8571428656578064, 0.8476190567016602, 0.8666666746139526, 0.9142857193946838, 0.8666666746139526, 0.8857142925262451, 0.9428571462631226, 0.8666666746139526, 0.9047619104385376, 0.8761904835700989, 0.9238095283508301, 0.9428571462631226, 0.9142857193946838, 0.9142857193946838, 0.8952381014823914, 0.9428571462631226, 0.8952381014823914, 0.9333333373069763], 'loss': [1.2240750789642334, 1.0733648538589478, 1.0406502485275269, 0.9877337217330933, 0.9650934934616089, 0.9048797488212585, 0.861041247844696, 0.8199508190155029, 0.8056524395942688, 0.7262662649154663, 0.7034018635749817, 0.6949372887611389, 0.6195300221443176, 0.5675352215766907, 0.5534108281135559, 0.6008316874504089, 0.5307914614677429, 0.525389552116394, 0.45523762702941895, 0.4463679790496826, 0.36966222524642944, 0.40924182534217834, 0.39294421672821045, 0.42424553632736206, 0.4184660315513611, 0.4253863990306854, 0.36667606234550476, 0.35552021861076355, 0.35384851694107056, 0.35903289914131165, 0.3906908929347992, 0.29873397946357727, 0.3247566819190979, 0.34403693675994873, 0.2929791510105133, 0.24656131863594055, 0.2892571985721588, 0.27200496196746826, 0.23228105902671814, 0.30973726511001587, 0.278017520904541, 0.30241283774375916, 0.24924486875534058, 0.19673919677734375, 0.280618280172348, 0.21171769499778748, 0.22704605758190155, 0.20208899676799774, 0.23055250942707062, 0.17515835165977478], 'sparse_categorical_accuracy': [0.32380953431129456, 0.4571428596973419, 0.43809524178504944, 0.5428571701049805, 0.523809552192688, 0.6285714507102966, 0.6476190686225891, 0.6857143044471741, 0.6761904954910278, 0.7523809671401978, 0.7142857313156128, 0.723809540271759, 0.7523809671401978, 0.7904762029647827, 0.761904776096344, 0.7142857313156128, 0.761904776096344, 0.7523809671401978, 0.7809523940086365, 0.7809523940086365, 0.8476190567016602, 0.8666666746139526, 0.8190476298332214, 0.8095238208770752, 0.761904776096344, 0.7714285850524902, 0.8285714387893677, 0.8761904835700989, 0.8571428656578064, 0.8190476298332214, 0.8285714387893677, 0.8761904835700989, 0.8571428656578064, 0.8476190567016602, 0.8666666746139526, 0.9142857193946838, 0.8666666746139526, 0.8857142925262451, 0.9428571462631226, 0.8666666746139526, 0.9047619104385376, 0.8761904835700989, 0.9238095283508301, 0.9428571462631226, 0.9142857193946838, 0.9142857193946838, 0.8952381014823914, 0.9428571462631226, 0.8952381014823914, 0.9333333373069763]}\n"
     ]
    }
   ],
   "source": [
    "history = model.fit(train_set_X, train_set_Y, batch_size=32, epochs=50)\n",
    "\n",
    "print(history.history)"
   ]
  },
  {
   "cell_type": "markdown",
   "id": "e9a6aa0e",
   "metadata": {
    "id": "wo1x9I02-iDA",
    "papermill": {
     "duration": 0.024057,
     "end_time": "2024-11-02T20:23:08.680380",
     "exception": false,
     "start_time": "2024-11-02T20:23:08.656323",
     "status": "completed"
    },
    "tags": []
   },
   "source": [
    "## Avaliação do modelo\n",
    "\n",
    "Para o avaliarmos, entenderemos seu desempenho de predição no conjunto de treino, antes de passarmos para a predição propriamente dita."
   ]
  },
  {
   "cell_type": "code",
   "execution_count": 13,
   "id": "108206ab",
   "metadata": {
    "execution": {
     "iopub.execute_input": "2024-11-02T20:23:08.730973Z",
     "iopub.status.busy": "2024-11-02T20:23:08.729953Z",
     "iopub.status.idle": "2024-11-02T20:23:08.983193Z",
     "shell.execute_reply": "2024-11-02T20:23:08.981856Z"
    },
    "id": "H1_AL6ZW-JaW",
    "outputId": "bae9a56e-964b-4344-edad-aaaf2205ca31",
    "papermill": {
     "duration": 0.281581,
     "end_time": "2024-11-02T20:23:08.985908",
     "exception": false,
     "start_time": "2024-11-02T20:23:08.704327",
     "status": "completed"
    },
    "tags": []
   },
   "outputs": [
    {
     "name": "stdout",
     "output_type": "stream",
     "text": [
      "\u001b[1m2/2\u001b[0m \u001b[32m━━━━━━━━━━━━━━━━━━━━\u001b[0m\u001b[37m\u001b[0m \u001b[1m0s\u001b[0m 6ms/step - accuracy: 0.9748 - loss: 0.1848 - sparse_categorical_accuracy: 0.9748  \n",
      "Loss: 0.17 \n",
      "Accuracy: 0.98 \n",
      "Sparse Accuracy: 0.98\n"
     ]
    }
   ],
   "source": [
    "loss, acc, sparse_acc= model.evaluate(test_set_X, test_set_Y)\n",
    "\n",
    "print(\"Loss: %.2f\" % loss, \"\\nAccuracy: %.2f\" % acc, \"\\nSparse Accuracy: %.2f\" % sparse_acc)"
   ]
  },
  {
   "cell_type": "markdown",
   "id": "18f01a4a",
   "metadata": {
    "id": "xPHBjMg0-k0y",
    "papermill": {
     "duration": 0.024525,
     "end_time": "2024-11-02T20:23:09.036190",
     "exception": false,
     "start_time": "2024-11-02T20:23:09.011665",
     "status": "completed"
    },
    "tags": []
   },
   "source": [
    "## Predição\n",
    "\n",
    "Se tratando da predição propriamente dita, exibiremos as classes com maior probabilidade indicadas pela função *softmax* e contabilizaremos os acertos e erros do modelo."
   ]
  },
  {
   "cell_type": "code",
   "execution_count": 14,
   "id": "608c750e",
   "metadata": {
    "execution": {
     "iopub.execute_input": "2024-11-02T20:23:09.087307Z",
     "iopub.status.busy": "2024-11-02T20:23:09.086868Z",
     "iopub.status.idle": "2024-11-02T20:23:09.277056Z",
     "shell.execute_reply": "2024-11-02T20:23:09.275209Z"
    },
    "id": "monrxtyt-nPz",
    "outputId": "7d380147-e366-487f-84b1-248888a7559f",
    "papermill": {
     "duration": 0.219186,
     "end_time": "2024-11-02T20:23:09.279925",
     "exception": false,
     "start_time": "2024-11-02T20:23:09.060739",
     "status": "completed"
    },
    "tags": []
   },
   "outputs": [
    {
     "name": "stdout",
     "output_type": "stream",
     "text": [
      "\u001b[1m2/2\u001b[0m \u001b[32m━━━━━━━━━━━━━━━━━━━━\u001b[0m\u001b[37m\u001b[0m \u001b[1m0s\u001b[0m 48ms/step\n",
      "Número de acertos: 44\n",
      "Total de exemplos: 45\n"
     ]
    }
   ],
   "source": [
    "predictions = model.predict(test_set_X)\n",
    "\n",
    "predicted_classes = [np.argmax(pred) for pred in predictions]  # Pega a classe com a maior probabilidade\n",
    "correct_labels = [int(x) for x in test_set_Y]\n",
    "num_correct = sum([1 for i in range(len(correct_labels)) if predicted_classes[i] == correct_labels[i]])\n",
    "\n",
    "print(\"Número de acertos:\", num_correct)\n",
    "print(\"Total de exemplos:\", len(correct_labels))"
   ]
  }
 ],
 "metadata": {
  "colab": {
   "provenance": []
  },
  "kaggle": {
   "accelerator": "none",
   "dataSources": [
    {
     "datasetId": 17860,
     "sourceId": 23404,
     "sourceType": "datasetVersion"
    }
   ],
   "dockerImageVersionId": 30786,
   "isGpuEnabled": false,
   "isInternetEnabled": false,
   "language": "python",
   "sourceType": "notebook"
  },
  "kernelspec": {
   "display_name": "Python 3",
   "language": "python",
   "name": "python3"
  },
  "language_info": {
   "codemirror_mode": {
    "name": "ipython",
    "version": 3
   },
   "file_extension": ".py",
   "mimetype": "text/x-python",
   "name": "python",
   "nbconvert_exporter": "python",
   "pygments_lexer": "ipython3",
   "version": "3.10.14"
  },
  "papermill": {
   "default_parameters": {},
   "duration": 29.452902,
   "end_time": "2024-11-02T20:23:11.132878",
   "environment_variables": {},
   "exception": null,
   "input_path": "__notebook__.ipynb",
   "output_path": "__notebook__.ipynb",
   "parameters": {},
   "start_time": "2024-11-02T20:22:41.679976",
   "version": "2.6.0"
  }
 },
 "nbformat": 4,
 "nbformat_minor": 5
}
